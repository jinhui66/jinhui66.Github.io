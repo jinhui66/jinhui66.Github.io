{
 "cells": [
  {
   "cell_type": "markdown",
   "id": "54b6989f",
   "metadata": {},
   "source": [
    "# pandas\n",
    "\n",
    "\n",
    "### [预备知识](01%20预备知识.ipynb)\n",
    "### [pandas基础](02%20pandas基础.ipynb)\n",
    "### [索引](03%20索引.ipynb)\n",
    "### [分组](04%20分组.ipynb)\n",
    "### [变形](05%20变形.ipynb)\n",
    "### [连接](06%20连接.ipynb)\n",
    "### [缺失数据](07%20缺失数据.ipynb)\n",
    "### [文本数据](08%20文本数据.ipynb)\n",
    "### [分类数据](09%20分类数据.ipynb)\n",
    "### [时序数据](10%20时序数据.ipynb)"
   ]
  },
  {
   "cell_type": "code",
   "execution_count": null,
   "id": "bb963de2",
   "metadata": {},
   "outputs": [],
   "source": []
  },
  {
   "cell_type": "code",
   "execution_count": null,
   "id": "7d3728a6",
   "metadata": {},
   "outputs": [],
   "source": []
  }
 ],
 "metadata": {
  "kernelspec": {
   "display_name": "Python 3 (ipykernel)",
   "language": "python",
   "name": "python3"
  },
  "language_info": {
   "codemirror_mode": {
    "name": "ipython",
    "version": 3
   },
   "file_extension": ".py",
   "mimetype": "text/x-python",
   "name": "python",
   "nbconvert_exporter": "python",
   "pygments_lexer": "ipython3",
   "version": "3.11.5"
  },
  "toc": {
   "base_numbering": 1,
   "nav_menu": {},
   "number_sections": true,
   "sideBar": true,
   "skip_h1_title": false,
   "title_cell": "Table of Contents",
   "title_sidebar": "Contents",
   "toc_cell": false,
   "toc_position": {},
   "toc_section_display": true,
   "toc_window_display": false
  },
  "varInspector": {
   "cols": {
    "lenName": 16,
    "lenType": 16,
    "lenVar": 40
   },
   "kernels_config": {
    "python": {
     "delete_cmd_postfix": "",
     "delete_cmd_prefix": "del ",
     "library": "var_list.py",
     "varRefreshCmd": "print(var_dic_list())"
    },
    "r": {
     "delete_cmd_postfix": ") ",
     "delete_cmd_prefix": "rm(",
     "library": "var_list.r",
     "varRefreshCmd": "cat(var_dic_list()) "
    }
   },
   "types_to_exclude": [
    "module",
    "function",
    "builtin_function_or_method",
    "instance",
    "_Feature"
   ],
   "window_display": false
  }
 },
 "nbformat": 4,
 "nbformat_minor": 5
}
